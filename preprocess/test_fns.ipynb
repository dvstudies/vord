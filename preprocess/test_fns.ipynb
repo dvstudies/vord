{
 "cells": [
  {
   "cell_type": "code",
   "execution_count": 1,
   "id": "4e8e76e1",
   "metadata": {},
   "outputs": [],
   "source": [
    "from opensearchpy import OpenSearch\n",
    "import pandas as pd\n",
    "import re\n",
    "import cv2\n",
    "import matplotlib.pyplot as plt\n",
    "import numpy as np\n",
    "import os\n",
    "import shutil\n",
    "import random\n",
    "from PIL import Image\n",
    "from scipy.sparse import bsr_matrix\n",
    "from scipy import sparse\n",
    "import json\n",
    "from dotenv import load_dotenv\n",
    "from tqdm import tqdm\n"
   ]
  },
  {
   "cell_type": "markdown",
   "id": "cfd1f978",
   "metadata": {},
   "source": [
    "# Set up connection"
   ]
  },
  {
   "cell_type": "code",
   "execution_count": 2,
   "id": "fac03b6d",
   "metadata": {},
   "outputs": [
    {
     "name": "stdout",
     "output_type": "stream",
     "text": [
      "running on https://search-opensearch-cluster-wu5ju7kko4epwsbhzljedkegwm.aos.eu-north-1.on.aws\n"
     ]
    },
    {
     "name": "stderr",
     "output_type": "stream",
     "text": [
      "c:\\Users\\nerii\\Desktop\\Work\\DVS\\VORD\\v1\\_deployment\\vord\\preprocess\\env_preprocess\\lib\\site-packages\\opensearchpy\\connection\\http_urllib3.py:214: UserWarning: Connecting to https://search-opensearch-cluster-wu5ju7kko4epwsbhzljedkegwm.aos.eu-north-1.on.aws:443 using SSL with verify_certs=False is insecure.\n",
      "  warnings.warn(\n"
     ]
    }
   ],
   "source": [
    "load_dotenv(dotenv_path=\"../server/.env\")\n",
    "\n",
    "OPENSEARCH_URL = os.getenv(\"OPENSEARCH_URL\", \"http://localhost:9200\")\n",
    "USERNAME = os.getenv(\"OPENSEARCH_USER\", \"admin\")\n",
    "PASSWORD = os.getenv(\"OPENSEARCH_PASS\", \"admin\")\n",
    "\n",
    "host = OPENSEARCH_URL.replace(\"https://\", \"\").replace(\"http://\", \"\").split(\":\")[0]\n",
    "port = 443 if OPENSEARCH_URL.startswith(\"https\") else 9200\n",
    "\n",
    "client = OpenSearch(\n",
    "    hosts=[{\"host\": host, \"port\": port}],\n",
    "    http_auth=(USERNAME, PASSWORD),\n",
    "    use_ssl=OPENSEARCH_URL.startswith(\"https\"),\n",
    "    verify_certs=False\n",
    ")\n",
    "\n",
    "print(f'running on {OPENSEARCH_URL}')"
   ]
  },
  {
   "cell_type": "code",
   "execution_count": 3,
   "id": "6a92205c",
   "metadata": {},
   "outputs": [
    {
     "name": "stderr",
     "output_type": "stream",
     "text": [
      "c:\\Users\\nerii\\Desktop\\Work\\DVS\\VORD\\v1\\_deployment\\vord\\preprocess\\env_preprocess\\lib\\site-packages\\urllib3\\connectionpool.py:1064: InsecureRequestWarning: Unverified HTTPS request is being made to host 'search-opensearch-cluster-wu5ju7kko4epwsbhzljedkegwm.aos.eu-north-1.on.aws'. Adding certificate verification is strongly advised. See: https://urllib3.readthedocs.io/en/1.26.x/advanced-usage.html#ssl-warnings\n",
      "  warnings.warn(\n"
     ]
    },
    {
     "name": "stdout",
     "output_type": "stream",
     "text": [
      "{'cluster_name': '463470956574:opensearch-cluster', 'status': 'yellow', 'timed_out': False, 'number_of_nodes': 1, 'number_of_data_nodes': 1, 'discovered_master': True, 'discovered_cluster_manager': True, 'active_primary_shards': 12, 'active_shards': 12, 'relocating_shards': 0, 'initializing_shards': 0, 'unassigned_shards': 5, 'delayed_unassigned_shards': 0, 'number_of_pending_tasks': 0, 'number_of_in_flight_fetch': 0, 'task_max_waiting_in_queue_millis': 0, 'active_shards_percent_as_number': 70.58823529411765}\n"
     ]
    }
   ],
   "source": [
    "health = client.cluster.health()\n",
    "print(health)"
   ]
  },
  {
   "cell_type": "code",
   "execution_count": 8,
   "id": "62188cdc",
   "metadata": {},
   "outputs": [
    {
     "name": "stdout",
     "output_type": "stream",
     "text": [
      "{'index': 'masks', 'shard': '0', 'prirep': 'p', 'state': 'STARTED', 'docs': '587', 'store': '27.9mb', 'ip': 'x.x.x.x', 'node': '2e00c1c4aa5c970bdf3fd47587b8de4a'}\n",
      "{'index': 'masks', 'shard': '0', 'prirep': 'r', 'state': 'UNASSIGNED', 'docs': None, 'store': None, 'ip': None, 'node': None}\n",
      "{'index': 'masks', 'shard': '1', 'prirep': 'p', 'state': 'STARTED', 'docs': '603', 'store': '27.8mb', 'ip': 'x.x.x.x', 'node': '2e00c1c4aa5c970bdf3fd47587b8de4a'}\n",
      "{'index': 'masks', 'shard': '1', 'prirep': 'r', 'state': 'UNASSIGNED', 'docs': None, 'store': None, 'ip': None, 'node': None}\n",
      "{'index': 'masks', 'shard': '2', 'prirep': 'p', 'state': 'STARTED', 'docs': '610', 'store': '28.1mb', 'ip': 'x.x.x.x', 'node': '2e00c1c4aa5c970bdf3fd47587b8de4a'}\n",
      "{'index': 'masks', 'shard': '2', 'prirep': 'r', 'state': 'UNASSIGNED', 'docs': None, 'store': None, 'ip': None, 'node': None}\n",
      "{'index': 'masks', 'shard': '3', 'prirep': 'p', 'state': 'STARTED', 'docs': '578', 'store': '27.1mb', 'ip': 'x.x.x.x', 'node': '2e00c1c4aa5c970bdf3fd47587b8de4a'}\n",
      "{'index': 'masks', 'shard': '3', 'prirep': 'r', 'state': 'UNASSIGNED', 'docs': None, 'store': None, 'ip': None, 'node': None}\n",
      "{'index': 'masks', 'shard': '4', 'prirep': 'p', 'state': 'STARTED', 'docs': '622', 'store': '28.3mb', 'ip': 'x.x.x.x', 'node': '2e00c1c4aa5c970bdf3fd47587b8de4a'}\n",
      "{'index': 'masks', 'shard': '4', 'prirep': 'r', 'state': 'UNASSIGNED', 'docs': None, 'store': None, 'ip': None, 'node': None}\n"
     ]
    },
    {
     "name": "stderr",
     "output_type": "stream",
     "text": [
      "c:\\Users\\nerii\\Desktop\\Work\\DVS\\VORD\\v1\\_deployment\\vord\\preprocess\\env_preprocess\\lib\\site-packages\\urllib3\\connectionpool.py:1064: InsecureRequestWarning: Unverified HTTPS request is being made to host 'search-opensearch-cluster-wu5ju7kko4epwsbhzljedkegwm.aos.eu-north-1.on.aws'. Adding certificate verification is strongly advised. See: https://urllib3.readthedocs.io/en/1.26.x/advanced-usage.html#ssl-warnings\n",
      "  warnings.warn(\n"
     ]
    }
   ],
   "source": [
    "index = \"masks\"\n",
    "shards = client.cat.shards(index=index, format='json')\n",
    "\n",
    "for shard in shards:\n",
    "    print(shard)\n"
   ]
  },
  {
   "cell_type": "code",
   "execution_count": 11,
   "id": "fcf9d64a",
   "metadata": {},
   "outputs": [
    {
     "name": "stderr",
     "output_type": "stream",
     "text": [
      "c:\\Users\\nerii\\Desktop\\Work\\DVS\\VORD\\v1\\_deployment\\vord\\preprocess\\env_preprocess\\lib\\site-packages\\urllib3\\connectionpool.py:1064: InsecureRequestWarning: Unverified HTTPS request is being made to host 'search-opensearch-cluster-wu5ju7kko4epwsbhzljedkegwm.aos.eu-north-1.on.aws'. Adding certificate verification is strongly advised. See: https://urllib3.readthedocs.io/en/1.26.x/advanced-usage.html#ssl-warnings\n",
      "  warnings.warn(\n"
     ]
    },
    {
     "name": "stdout",
     "output_type": "stream",
     "text": [
      "{'masks': {'settings': {'index': {'replication': {'type': 'DOCUMENT'}, 'number_of_shards': '5', 'provided_name': 'masks', 'creation_date': '1744723292848', 'number_of_replicas': '1', 'uuid': 'mB4JdKSwRtWOUsOmr36EDQ', 'version': {'created': '136387827'}}}}}\n"
     ]
    }
   ],
   "source": [
    "settings = client.indices.get_settings(index=index)\n",
    "print(settings)"
   ]
  },
  {
   "cell_type": "markdown",
   "id": "615aee1d",
   "metadata": {},
   "source": [
    "# Set number of replicas to 0 (single node setup)"
   ]
  },
  {
   "cell_type": "code",
   "execution_count": 12,
   "id": "922d08cf",
   "metadata": {},
   "outputs": [
    {
     "name": "stderr",
     "output_type": "stream",
     "text": [
      "c:\\Users\\nerii\\Desktop\\Work\\DVS\\VORD\\v1\\_deployment\\vord\\preprocess\\env_preprocess\\lib\\site-packages\\urllib3\\connectionpool.py:1064: InsecureRequestWarning: Unverified HTTPS request is being made to host 'search-opensearch-cluster-wu5ju7kko4epwsbhzljedkegwm.aos.eu-north-1.on.aws'. Adding certificate verification is strongly advised. See: https://urllib3.readthedocs.io/en/1.26.x/advanced-usage.html#ssl-warnings\n",
      "  warnings.warn(\n"
     ]
    },
    {
     "data": {
      "text/plain": [
       "{'acknowledged': True}"
      ]
     },
     "execution_count": 12,
     "metadata": {},
     "output_type": "execute_result"
    }
   ],
   "source": [
    "client.indices.put_settings(\n",
    "    index='masks',\n",
    "    body={\n",
    "        \"index\": {\n",
    "            \"number_of_replicas\": 0\n",
    "        }\n",
    "    }\n",
    ")\n"
   ]
  },
  {
   "cell_type": "code",
   "execution_count": 13,
   "id": "e7311db2",
   "metadata": {},
   "outputs": [
    {
     "name": "stdout",
     "output_type": "stream",
     "text": [
      "{'cluster_name': '463470956574:opensearch-cluster', 'status': 'green', 'timed_out': False, 'number_of_nodes': 1, 'number_of_data_nodes': 1, 'discovered_master': True, 'discovered_cluster_manager': True, 'active_primary_shards': 12, 'active_shards': 12, 'relocating_shards': 0, 'initializing_shards': 0, 'unassigned_shards': 0, 'delayed_unassigned_shards': 0, 'number_of_pending_tasks': 0, 'number_of_in_flight_fetch': 0, 'task_max_waiting_in_queue_millis': 0, 'active_shards_percent_as_number': 100.0}\n"
     ]
    },
    {
     "name": "stderr",
     "output_type": "stream",
     "text": [
      "c:\\Users\\nerii\\Desktop\\Work\\DVS\\VORD\\v1\\_deployment\\vord\\preprocess\\env_preprocess\\lib\\site-packages\\urllib3\\connectionpool.py:1064: InsecureRequestWarning: Unverified HTTPS request is being made to host 'search-opensearch-cluster-wu5ju7kko4epwsbhzljedkegwm.aos.eu-north-1.on.aws'. Adding certificate verification is strongly advised. See: https://urllib3.readthedocs.io/en/1.26.x/advanced-usage.html#ssl-warnings\n",
      "  warnings.warn(\n"
     ]
    }
   ],
   "source": [
    "print(client.cluster.health())"
   ]
  }
 ],
 "metadata": {
  "kernelspec": {
   "display_name": "env_preprocess",
   "language": "python",
   "name": "python3"
  },
  "language_info": {
   "codemirror_mode": {
    "name": "ipython",
    "version": 3
   },
   "file_extension": ".py",
   "mimetype": "text/x-python",
   "name": "python",
   "nbconvert_exporter": "python",
   "pygments_lexer": "ipython3",
   "version": "3.9.13"
  }
 },
 "nbformat": 4,
 "nbformat_minor": 5
}
