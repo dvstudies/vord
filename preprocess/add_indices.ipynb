{
 "cells": [
  {
   "cell_type": "code",
   "execution_count": 3,
   "metadata": {},
   "outputs": [],
   "source": [
    "from opensearchpy import OpenSearch\n",
    "from dotenv import load_dotenv\n",
    "import json\n",
    "import os"
   ]
  },
  {
   "cell_type": "markdown",
   "metadata": {},
   "source": [
    "# Set up connection"
   ]
  },
  {
   "cell_type": "code",
   "execution_count": 4,
   "metadata": {},
   "outputs": [
    {
     "name": "stdout",
     "output_type": "stream",
     "text": [
      "running on https://search-opensearch-cluster-wu5ju7kko4epwsbhzljedkegwm.aos.eu-north-1.on.aws\n"
     ]
    }
   ],
   "source": [
    "load_dotenv(dotenv_path=\"../backend/.env\")\n",
    "\n",
    "OPENSEARCH_URL = os.getenv(\"OPENSEARCH_URL\", \"http://localhost:9200\")\n",
    "USERNAME = os.getenv(\"OPENSEARCH_USER\", \"admin\")\n",
    "PASSWORD = os.getenv(\"OPENSEARCH_PASS\", \"admin\")\n",
    "\n",
    "host = OPENSEARCH_URL.replace(\"https://\", \"\").replace(\"http://\", \"\").split(\":\")[0]\n",
    "port = 443 if OPENSEARCH_URL.startswith(\"https\") else 9200\n",
    "\n",
    "client = OpenSearch(\n",
    "    hosts=[{\"host\": host, \"port\": port}],\n",
    "    http_auth=(USERNAME, PASSWORD),\n",
    "    use_ssl=OPENSEARCH_URL.startswith(\"https\"),\n",
    "    verify_certs=False\n",
    ")\n",
    "\n",
    "print(f'running on {OPENSEARCH_URL}')"
   ]
  },
  {
   "cell_type": "markdown",
   "metadata": {},
   "source": [
    "# Add Indices"
   ]
  },
  {
   "cell_type": "code",
   "execution_count": 5,
   "metadata": {},
   "outputs": [
    {
     "name": "stderr",
     "output_type": "stream",
     "text": [
      "c:\\Users\\nerii\\Desktop\\Work\\DVS\\VORD\\v1\\preprocess\\env_preprocess\\lib\\site-packages\\urllib3\\connectionpool.py:1064: InsecureRequestWarning: Unverified HTTPS request is being made to host 'search-opensearch-cluster-wu5ju7kko4epwsbhzljedkegwm.aos.eu-north-1.on.aws'. Adding certificate verification is strongly advised. See: https://urllib3.readthedocs.io/en/1.26.x/advanced-usage.html#ssl-warnings\n",
      "  warnings.warn(\n",
      "c:\\Users\\nerii\\Desktop\\Work\\DVS\\VORD\\v1\\preprocess\\env_preprocess\\lib\\site-packages\\urllib3\\connectionpool.py:1064: InsecureRequestWarning: Unverified HTTPS request is being made to host 'search-opensearch-cluster-wu5ju7kko4epwsbhzljedkegwm.aos.eu-north-1.on.aws'. Adding certificate verification is strongly advised. See: https://urllib3.readthedocs.io/en/1.26.x/advanced-usage.html#ssl-warnings\n",
      "  warnings.warn(\n"
     ]
    },
    {
     "name": "stdout",
     "output_type": "stream",
     "text": [
      "Created index 'paintings'\n"
     ]
    },
    {
     "name": "stderr",
     "output_type": "stream",
     "text": [
      "c:\\Users\\nerii\\Desktop\\Work\\DVS\\VORD\\v1\\preprocess\\env_preprocess\\lib\\site-packages\\urllib3\\connectionpool.py:1064: InsecureRequestWarning: Unverified HTTPS request is being made to host 'search-opensearch-cluster-wu5ju7kko4epwsbhzljedkegwm.aos.eu-north-1.on.aws'. Adding certificate verification is strongly advised. See: https://urllib3.readthedocs.io/en/1.26.x/advanced-usage.html#ssl-warnings\n",
      "  warnings.warn(\n",
      "c:\\Users\\nerii\\Desktop\\Work\\DVS\\VORD\\v1\\preprocess\\env_preprocess\\lib\\site-packages\\urllib3\\connectionpool.py:1064: InsecureRequestWarning: Unverified HTTPS request is being made to host 'search-opensearch-cluster-wu5ju7kko4epwsbhzljedkegwm.aos.eu-north-1.on.aws'. Adding certificate verification is strongly advised. See: https://urllib3.readthedocs.io/en/1.26.x/advanced-usage.html#ssl-warnings\n",
      "  warnings.warn(\n"
     ]
    },
    {
     "name": "stdout",
     "output_type": "stream",
     "text": [
      "Created index 'masks'\n"
     ]
    }
   ],
   "source": [
    "# Load schema\n",
    "with open(\"data/schema.json\", \"r\") as f:\n",
    "    schema = json.load(f)\n",
    "\n",
    "# Create indices if not already existing\n",
    "for index_name, index_body in schema.items():\n",
    "    if client.indices.exists(index=index_name):\n",
    "        print(f\"⚠️  Index '{index_name}' already exists. Skipping.\")\n",
    "    else:\n",
    "        try:\n",
    "            client.indices.create(index=index_name, body=index_body)\n",
    "            print(f\"Created index '{index_name}'\")\n",
    "        except Exception as e:\n",
    "            print(f\"Error creating index '{index_name}': {e}\")\n"
   ]
  },
  {
   "cell_type": "markdown",
   "metadata": {},
   "source": [
    "# Check Upload"
   ]
  },
  {
   "cell_type": "code",
   "execution_count": 6,
   "metadata": {},
   "outputs": [
    {
     "name": "stdout",
     "output_type": "stream",
     "text": [
      "📦 Available indices:\n",
      " - .plugins-ml-model-group\n",
      " - .plugins-flow-framework-state\n",
      " - .ql-datasources\n",
      " - .plugins-ml-agent\n",
      " - masks\n",
      " - .plugins-ml-task\n",
      " - .plugins-flow-framework-templates\n",
      " - .kibana_1\n",
      " - .opendistro_security\n",
      " - .opensearch-observability\n",
      " - .plugins-ml-config\n",
      " - .plugins-ml-model\n",
      " - .opensearch-sap-log-types-config\n",
      " - .plugins-flow-framework-config\n",
      " - paintings\n"
     ]
    },
    {
     "name": "stderr",
     "output_type": "stream",
     "text": [
      "c:\\Users\\nerii\\Desktop\\Work\\DVS\\VORD\\v1\\preprocess\\env_preprocess\\lib\\site-packages\\urllib3\\connectionpool.py:1064: InsecureRequestWarning: Unverified HTTPS request is being made to host 'search-opensearch-cluster-wu5ju7kko4epwsbhzljedkegwm.aos.eu-north-1.on.aws'. Adding certificate verification is strongly advised. See: https://urllib3.readthedocs.io/en/1.26.x/advanced-usage.html#ssl-warnings\n",
      "  warnings.warn(\n"
     ]
    }
   ],
   "source": [
    "# List all indices\n",
    "indices = client.indices.get_alias(\"*\")\n",
    "print(\"📦 Available indices:\")\n",
    "for index_name in indices:\n",
    "    print(f\" - {index_name}\")\n"
   ]
  }
 ],
 "metadata": {
  "kernelspec": {
   "display_name": "env_preprocess",
   "language": "python",
   "name": "python3"
  },
  "language_info": {
   "codemirror_mode": {
    "name": "ipython",
    "version": 3
   },
   "file_extension": ".py",
   "mimetype": "text/x-python",
   "name": "python",
   "nbconvert_exporter": "python",
   "pygments_lexer": "ipython3",
   "version": "3.9.13"
  }
 },
 "nbformat": 4,
 "nbformat_minor": 2
}
