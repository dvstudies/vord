{
 "cells": [
  {
   "cell_type": "code",
   "execution_count": 2,
   "metadata": {},
   "outputs": [],
   "source": [
    "from opensearchpy import OpenSearch\n",
    "from dotenv import load_dotenv\n",
    "import json\n",
    "import os"
   ]
  },
  {
   "cell_type": "markdown",
   "metadata": {},
   "source": [
    "# Set up connection"
   ]
  },
  {
   "cell_type": "code",
   "execution_count": 3,
   "metadata": {},
   "outputs": [
    {
     "name": "stdout",
     "output_type": "stream",
     "text": [
      "running on https://search-opensearch-cluster-wu5ju7kko4epwsbhzljedkegwm.aos.eu-north-1.on.aws\n"
     ]
    },
    {
     "name": "stderr",
     "output_type": "stream",
     "text": [
      "c:\\Users\\nerii\\Desktop\\Work\\DVS\\VORD\\v1\\_deployment\\vord\\preprocess\\env_preprocess\\lib\\site-packages\\opensearchpy\\connection\\http_urllib3.py:214: UserWarning: Connecting to https://search-opensearch-cluster-wu5ju7kko4epwsbhzljedkegwm.aos.eu-north-1.on.aws:443 using SSL with verify_certs=False is insecure.\n",
      "  warnings.warn(\n"
     ]
    }
   ],
   "source": [
    "load_dotenv(dotenv_path=\"../server/.env\")\n",
    "\n",
    "OPENSEARCH_URL = os.getenv(\"OPENSEARCH_URL\", \"http://localhost:9200\")\n",
    "USERNAME = os.getenv(\"OPENSEARCH_USER\", \"admin\")\n",
    "PASSWORD = os.getenv(\"OPENSEARCH_PASS\", \"admin\")\n",
    "\n",
    "host = OPENSEARCH_URL.replace(\"https://\", \"\").replace(\"http://\", \"\").split(\":\")[0]\n",
    "port = 443 if OPENSEARCH_URL.startswith(\"https\") else 9200\n",
    "\n",
    "client = OpenSearch(\n",
    "    hosts=[{\"host\": host, \"port\": port}],\n",
    "    http_auth=(USERNAME, PASSWORD),\n",
    "    use_ssl=OPENSEARCH_URL.startswith(\"https\"),\n",
    "    verify_certs=False\n",
    ")\n",
    "\n",
    "print(f'running on {OPENSEARCH_URL}')"
   ]
  },
  {
   "cell_type": "markdown",
   "metadata": {},
   "source": [
    "# Remove Indices"
   ]
  },
  {
   "cell_type": "code",
   "execution_count": null,
   "metadata": {},
   "outputs": [
    {
     "name": "stderr",
     "output_type": "stream",
     "text": [
      "c:\\Users\\nerii\\Desktop\\Work\\DVS\\VORD\\v1\\_deployment\\vord\\preprocess\\env_preprocess\\lib\\site-packages\\urllib3\\connectionpool.py:1064: InsecureRequestWarning: Unverified HTTPS request is being made to host 'search-opensearch-cluster-wu5ju7kko4epwsbhzljedkegwm.aos.eu-north-1.on.aws'. Adding certificate verification is strongly advised. See: https://urllib3.readthedocs.io/en/1.26.x/advanced-usage.html#ssl-warnings\n",
      "  warnings.warn(\n",
      "c:\\Users\\nerii\\Desktop\\Work\\DVS\\VORD\\v1\\_deployment\\vord\\preprocess\\env_preprocess\\lib\\site-packages\\urllib3\\connectionpool.py:1064: InsecureRequestWarning: Unverified HTTPS request is being made to host 'search-opensearch-cluster-wu5ju7kko4epwsbhzljedkegwm.aos.eu-north-1.on.aws'. Adding certificate verification is strongly advised. See: https://urllib3.readthedocs.io/en/1.26.x/advanced-usage.html#ssl-warnings\n",
      "  warnings.warn(\n"
     ]
    },
    {
     "name": "stdout",
     "output_type": "stream",
     "text": [
      "Deleted index 'paintings': {'acknowledged': True}\n"
     ]
    },
    {
     "ename": "",
     "evalue": "",
     "output_type": "error",
     "traceback": [
      "\u001b[1;31mThe Kernel crashed while executing code in the current cell or a previous cell. \n",
      "\u001b[1;31mPlease review the code in the cell(s) to identify a possible cause of the failure. \n",
      "\u001b[1;31mClick <a href='https://aka.ms/vscodeJupyterKernelCrash'>here</a> for more info. \n",
      "\u001b[1;31mView Jupyter <a href='command:jupyter.viewOutput'>log</a> for further details."
     ]
    }
   ],
   "source": [
    "# List of indices to delete\n",
    "indices_to_delete = ['paintings']\n",
    "\n",
    "# Delete indices if they exist\n",
    "for index in indices_to_delete:\n",
    "    if client.indices.exists(index=index):\n",
    "        response = client.indices.delete(index=index)\n",
    "        print(f\"Deleted index '{index}':\", response)\n",
    "    else:\n",
    "        print(f\"Index '{index}' does not exist.\")"
   ]
  },
  {
   "cell_type": "markdown",
   "metadata": {},
   "source": [
    "# Check Upload"
   ]
  },
  {
   "cell_type": "code",
   "execution_count": 5,
   "metadata": {},
   "outputs": [
    {
     "name": "stdout",
     "output_type": "stream",
     "text": [
      "📦 Available indices:\n",
      " - .plugins-ml-config\n",
      " - .opensearch-observability\n",
      " - .ql-datasources\n",
      " - .opensearch-sap-log-types-config\n",
      " - paintings\n",
      " - .kibana_1\n",
      " - .opendistro_security\n"
     ]
    },
    {
     "name": "stderr",
     "output_type": "stream",
     "text": [
      "c:\\Users\\nerii\\Desktop\\Work\\DVS\\VORD\\v1\\_deployment\\vord\\preprocess\\env_preprocess\\lib\\site-packages\\urllib3\\connectionpool.py:1064: InsecureRequestWarning: Unverified HTTPS request is being made to host 'search-opensearch-cluster-wu5ju7kko4epwsbhzljedkegwm.aos.eu-north-1.on.aws'. Adding certificate verification is strongly advised. See: https://urllib3.readthedocs.io/en/1.26.x/advanced-usage.html#ssl-warnings\n",
      "  warnings.warn(\n"
     ]
    }
   ],
   "source": [
    "# List all indices\n",
    "indices = client.indices.get_alias(\"*\")\n",
    "print(\"📦 Available indices:\")\n",
    "for index_name in indices:\n",
    "    print(f\" - {index_name}\")\n"
   ]
  }
 ],
 "metadata": {
  "kernelspec": {
   "display_name": "env_preprocess",
   "language": "python",
   "name": "python3"
  },
  "language_info": {
   "codemirror_mode": {
    "name": "ipython",
    "version": 3
   },
   "file_extension": ".py",
   "mimetype": "text/x-python",
   "name": "python",
   "nbconvert_exporter": "python",
   "pygments_lexer": "ipython3",
   "version": "3.9.13"
  }
 },
 "nbformat": 4,
 "nbformat_minor": 2
}
